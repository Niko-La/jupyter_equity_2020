{
 "cells": [
  {
   "cell_type": "code",
   "execution_count": 1,
   "id": "5634e779-1862-4693-ad2a-395d021f35ed",
   "metadata": {},
   "outputs": [
    {
     "data": {
      "text/plain": [
       "(43.673630169776516, -79.47239051320398)"
      ]
     },
     "execution_count": 1,
     "metadata": {},
     "output_type": "execute_result"
    }
   ],
   "source": []
  },
  {
   "cell_type": "code",
   "execution_count": null,
   "id": "d776c7e6-08be-4d39-9c5e-747859c8d27a",
   "metadata": {},
   "outputs": [],
   "source": []
  },
  {
   "cell_type": "code",
   "execution_count": 6,
   "id": "1e894268-0ee7-480f-850d-6f7e8280a64d",
   "metadata": {},
   "outputs": [
    {
     "data": {
      "application/vnd.jupyter.widget-view+json": {
       "model_id": "b05374da981f422180aaca07d0d6f764",
       "version_major": 2,
       "version_minor": 0
      },
      "text/plain": [
       "Map(center=[43.673630169776516, -79.47239051320398], controls=(ZoomControl(options=['position', 'zoom_in_text'…"
      ]
     },
     "metadata": {},
     "output_type": "display_data"
    }
   ],
   "source": [
    "import leafmap\n",
    "\n",
    "m = leafmap.Map(center=[43.673630169776516, -79.47239051320398], zoom=13)  #center=[lat, lon]\n",
    "m"
   ]
  },
  {
   "cell_type": "code",
   "execution_count": 7,
   "id": "c50fb50d-8534-40b2-95ff-30b0dff95cd4",
   "metadata": {},
   "outputs": [],
   "source": [
    "import numpy as np \n",
    "\n",
    "# library for data analsysis\n",
    "import pandas as pd \n",
    "\n",
    "# library to handle JSON files\n",
    "import json \n",
    "import requests"
   ]
  },
  {
   "cell_type": "code",
   "execution_count": 22,
   "id": "ab70bb95-b5ec-42cf-b642-0955665a8cff",
   "metadata": {},
   "outputs": [
    {
     "data": {
      "application/vnd.jupyter.widget-view+json": {
       "model_id": "a89c05e2af484057924d922d75e0dc77",
       "version_major": 2,
       "version_minor": 0
      },
      "text/plain": [
       "Map(center=[43.673630169776516, -79.47239051320398], controls=(ZoomControl(options=['position', 'zoom_in_text'…"
      ]
     },
     "metadata": {},
     "output_type": "display_data"
    }
   ],
   "source": [
    "#postal_codes = pd.read_file('torontofsa.geojson')\n",
    "#postal_codes.head()\n",
    "m = leafmap.Map(center=[43.673630169776516, -79.47239051320398], zoom=13)  #center=[lat, lon]\n",
    "lines = 'https://raw.githubusercontent.com/Niko-La/jupyter_equity_2020/main/torontofsa.geojson'\n",
    "m.add_geojson(lines, layer_name=\"Cable lines\")\n",
    "\n",
    "\n",
    "df = gpd.read_file()"
   ]
  },
  {
   "cell_type": "code",
   "execution_count": null,
   "id": "383b058e-13c7-4f71-ac5a-d5563a768cc3",
   "metadata": {},
   "outputs": [],
   "source": []
  }
 ],
 "metadata": {
  "kernelspec": {
   "display_name": "Python 3 (ipykernel)",
   "language": "python",
   "name": "python3"
  },
  "language_info": {
   "codemirror_mode": {
    "name": "ipython",
    "version": 3
   },
   "file_extension": ".py",
   "mimetype": "text/x-python",
   "name": "python",
   "nbconvert_exporter": "python",
   "pygments_lexer": "ipython3",
   "version": "3.9.7"
  }
 },
 "nbformat": 4,
 "nbformat_minor": 5
}
